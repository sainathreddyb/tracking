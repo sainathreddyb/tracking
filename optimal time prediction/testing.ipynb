{
 "cells": [
  {
   "cell_type": "code",
   "execution_count": 1,
   "metadata": {},
   "outputs": [
    {
     "name": "stderr",
     "output_type": "stream",
     "text": [
      "Using TensorFlow backend.\n"
     ]
    }
   ],
   "source": [
    "import pandas as pd\n",
    "from keras.layers import Input, Dense,Dropout\n",
    "from keras.models import Model, Sequential\n",
    "from keras import regularizers\n",
    "from sklearn.model_selection import train_test_split\n",
    "import pandas as pd\n",
    "from keras.layers import Input, Dense,Dropout\n",
    "from keras.models import Model, Sequential\n",
    "from keras import regularizers\n",
    "from sklearn.model_selection import train_test_split\n",
    "\n",
    "from keras.layers import *"
   ]
  },
  {
   "cell_type": "markdown",
   "metadata": {},
   "source": [
    "# Loading Dataset"
   ]
  },
  {
   "cell_type": "code",
   "execution_count": 2,
   "metadata": {},
   "outputs": [],
   "source": [
    "\n",
    "data=pd.read_csv('../competitions/chicago_taxi_trips_2016_01.csv')\n",
    "\n",
    "data=data[['taxi_id','trip_start_timestamp','trip_end_timestamp','trip_seconds','trip_miles','pickup_latitude', 'pickup_longitude', 'dropoff_latitude',\n",
    "       'dropoff_longitude']]\n"
   ]
  },
  {
   "cell_type": "markdown",
   "metadata": {},
   "source": [
    "# Preprocessing"
   ]
  },
  {
   "cell_type": "code",
   "execution_count": 3,
   "metadata": {},
   "outputs": [],
   "source": [
    "\n",
    "data=data.dropna()\n",
    "data=data.reset_index(drop=True)\n",
    "data['trip_seconds']=data['trip_seconds']/60.0\n",
    "data=data[data['trip_seconds']>2.0]\n",
    "data=data.reset_index(drop=True)\n",
    "\n"
   ]
  },
  {
   "cell_type": "code",
   "execution_count": 4,
   "metadata": {},
   "outputs": [
    {
     "data": {
      "text/plain": [
       "taxi_id                              1742\n",
       "trip_start_timestamp    2016-1-2 15:15:00\n",
       "trip_end_timestamp      2016-1-2 15:15:00\n",
       "trip_seconds                            4\n",
       "trip_miles                            0.6\n",
       "pickup_latitude                       167\n",
       "pickup_longitude                      754\n",
       "dropoff_latitude                      744\n",
       "dropoff_longitude                     605\n",
       "Name: 1030281, dtype: object"
      ]
     },
     "execution_count": 4,
     "metadata": {},
     "output_type": "execute_result"
    }
   ],
   "source": [
    "data.iloc[1030281]"
   ]
  },
  {
   "cell_type": "code",
   "execution_count": 5,
   "metadata": {},
   "outputs": [
    {
     "name": "stderr",
     "output_type": "stream",
     "text": [
      "/home/user/.conda/envs/tf_gpu/lib/python3.6/site-packages/ipykernel_launcher.py:3: SettingWithCopyWarning: \n",
      "A value is trying to be set on a copy of a slice from a DataFrame.\n",
      "Try using .loc[row_indexer,col_indexer] = value instead\n",
      "\n",
      "See the caveats in the documentation: http://pandas.pydata.org/pandas-docs/stable/indexing.html#indexing-view-versus-copy\n",
      "  This is separate from the ipykernel package so we can avoid doing imports until\n",
      "/home/user/.conda/envs/tf_gpu/lib/python3.6/site-packages/ipykernel_launcher.py:4: SettingWithCopyWarning: \n",
      "A value is trying to be set on a copy of a slice from a DataFrame.\n",
      "Try using .loc[row_indexer,col_indexer] = value instead\n",
      "\n",
      "See the caveats in the documentation: http://pandas.pydata.org/pandas-docs/stable/indexing.html#indexing-view-versus-copy\n",
      "  after removing the cwd from sys.path.\n",
      "/home/user/.conda/envs/tf_gpu/lib/python3.6/site-packages/ipykernel_launcher.py:5: SettingWithCopyWarning: \n",
      "A value is trying to be set on a copy of a slice from a DataFrame.\n",
      "Try using .loc[row_indexer,col_indexer] = value instead\n",
      "\n",
      "See the caveats in the documentation: http://pandas.pydata.org/pandas-docs/stable/indexing.html#indexing-view-versus-copy\n",
      "  \"\"\"\n",
      "/home/user/.conda/envs/tf_gpu/lib/python3.6/site-packages/ipykernel_launcher.py:6: SettingWithCopyWarning: \n",
      "A value is trying to be set on a copy of a slice from a DataFrame.\n",
      "Try using .loc[row_indexer,col_indexer] = value instead\n",
      "\n",
      "See the caveats in the documentation: http://pandas.pydata.org/pandas-docs/stable/indexing.html#indexing-view-versus-copy\n",
      "  \n"
     ]
    }
   ],
   "source": [
    "\n",
    "embed_data=data[['pickup_latitude','pickup_longitude','dropoff_latitude','dropoff_longitude']]\n",
    "embed_data['pickup_latitude'] =(embed_data['pickup_latitude']-min(embed_data.pickup_latitude))/(max(embed_data.pickup_latitude)-min(embed_data.pickup_latitude))\n",
    "embed_data['pickup_longitude'] =(embed_data['pickup_longitude']-min(embed_data.pickup_longitude))/(max(embed_data.pickup_longitude)-min(embed_data.pickup_longitude))\n",
    "embed_data['dropoff_latitude'] =(embed_data['dropoff_latitude']-min(embed_data.dropoff_latitude))/(max(embed_data.dropoff_latitude)-min(embed_data.dropoff_latitude))\n",
    "embed_data['dropoff_longitude'] =(embed_data['dropoff_longitude']-min(embed_data.dropoff_longitude))/(max(embed_data.dropoff_longitude)-min(embed_data.dropoff_longitude))\n",
    "\n"
   ]
  },
  {
   "cell_type": "markdown",
   "metadata": {},
   "source": [
    "# Entity Embeddings"
   ]
  },
  {
   "cell_type": "code",
   "execution_count": 28,
   "metadata": {},
   "outputs": [
    {
     "name": "stdout",
     "output_type": "stream",
     "text": [
      "pickup_latitude\n",
      "pickup_longitude\n",
      "dropoff_latitude\n",
      "dropoff_longitude\n"
     ]
    }
   ],
   "source": [
    "\n",
    "from keras.layers.embeddings import Embedding\n",
    "from keras.models import Model,Sequential\n",
    "from keras.layers import *\n",
    "model_in=[]\n",
    "model_op=[]\n",
    "l=['pickup_latitude','pickup_longitude','dropoff_latitude','dropoff_longitude']\n",
    "for categorical_var in l:\n",
    "    print(categorical_var)\n",
    "    \n",
    "    no_of_unique_cat  = data[categorical_var].nunique()\n",
    "    embedding_size = min(np.ceil((no_of_unique_cat)/2), 50 )\n",
    "    embedding_size = int(embedding_size)\n",
    "    vocab  = no_of_unique_cat+1\n",
    "    input_layer = Input(shape=(1,))\n",
    "    model=Embedding(vocab ,embedding_size )(input_layer)\n",
    "    model=Reshape(target_shape=(embedding_size,))(model)\n",
    "    model=Dropout(0.5)(model)\n",
    "    #model1 = Model(input_layer,model)\n",
    "    model_in.append(input_layer)\n",
    "    model_op.append(model)\n"
   ]
  },
  {
   "cell_type": "code",
   "execution_count": 7,
   "metadata": {},
   "outputs": [],
   "source": [
    "\n",
    "data['start_Date'] = pd.to_datetime(data['trip_start_timestamp'])\n",
    "data['end_Date'] = pd.to_datetime(data['trip_end_timestamp'])\n",
    "data=data.drop(columns=['trip_start_timestamp'])\n",
    "data=data.drop(columns=['trip_end_timestamp'])\n",
    "data['start_year'] = data['start_Date'].dt.year\n",
    "data['start_month'] = data['start_Date'].dt.month\n",
    "data['start_day'] = data['start_Date'].dt.day\n",
    "data['start_hour'] = data['start_Date'].dt.hour\n",
    "data['end_year'] = data['end_Date'].dt.year\n",
    "data['end_month'] = data['end_Date'].dt.month\n",
    "data['end_day'] = data['end_Date'].dt.day\n",
    "data['end_hour'] = data['end_Date'].dt.hour\n",
    "\n"
   ]
  },
  {
   "cell_type": "code",
   "execution_count": 8,
   "metadata": {},
   "outputs": [],
   "source": [
    "import numpy as np\n",
    "\n",
    "data=data.drop(columns=['start_Date'])\n",
    "data=data.drop(columns=['end_Date'])\n",
    "X=pd.DataFrame()\n",
    "X['distance'] =(data['trip_miles']-min(data.trip_miles))/(max(data.trip_miles)-min(data.trip_miles))\n",
    "X['start_hour'] =data['start_hour']/max(data.start_hour)\n",
    "X['start_day'] =data['start_day']/max(data.start_day)\n",
    "X['end_hour'] =data['end_hour']/max(data.end_hour)\n",
    "X['end_day'] =data['end_day']/max(data.end_day)"
   ]
  },
  {
   "cell_type": "code",
   "execution_count": 11,
   "metadata": {},
   "outputs": [
    {
     "data": {
      "text/plain": [
       "1439.0"
      ]
     },
     "execution_count": 11,
     "metadata": {},
     "output_type": "execute_result"
    }
   ],
   "source": [
    "data.trip_seconds.max()"
   ]
  },
  {
   "cell_type": "markdown",
   "metadata": {},
   "source": [
    "# train test split"
   ]
  },
  {
   "cell_type": "code",
   "execution_count": 14,
   "metadata": {},
   "outputs": [],
   "source": [
    "\n",
    "\n",
    "Y=pd.DataFrame()\n",
    "\n",
    "Y=(data['trip_seconds']-min(data.trip_seconds))/(max(data.trip_seconds)-min(data.trip_seconds))\n",
    "\n",
    "Y=np.array(Y)\n",
    "\n",
    "\n",
    "X_train, X_test = X[0:1030281], X[1030281:]\n",
    "y_train, y_test = Y[0:1030281], Y[1030281:]\n",
    "embed_train,embed_test=embed_data[0:1030281],embed_data[1030281:]"
   ]
  },
  {
   "cell_type": "code",
   "execution_count": 15,
   "metadata": {},
   "outputs": [
    {
     "data": {
      "text/plain": [
       "4.0"
      ]
     },
     "execution_count": 15,
     "metadata": {},
     "output_type": "execute_result"
    }
   ],
   "source": [
    "Y[1030281]*(max(data.trip_seconds)-min(data.trip_seconds))+min(data.trip_seconds)"
   ]
  },
  {
   "cell_type": "code",
   "execution_count": 16,
   "metadata": {},
   "outputs": [],
   "source": [
    "x=pd.concat([embed_train,X_train],axis=1)\n",
    "x_test=pd.concat([embed_test,X_test],axis=1)"
   ]
  },
  {
   "cell_type": "code",
   "execution_count": 17,
   "metadata": {},
   "outputs": [
    {
     "data": {
      "text/plain": [
       "(1287852, 5)"
      ]
     },
     "execution_count": 17,
     "metadata": {},
     "output_type": "execute_result"
    }
   ],
   "source": [
    "X.shape"
   ]
  },
  {
   "cell_type": "markdown",
   "metadata": {},
   "source": [
    "# Model"
   ]
  },
  {
   "cell_type": "code",
   "execution_count": 29,
   "metadata": {},
   "outputs": [],
   "source": [
    "## input layer \n",
    "input_layer = Input(shape=(X.shape[1],))\n",
    "# embed_input = Input(shape=(embed_train.shape[1],))\n",
    "\n",
    "## encoding part\n",
    "encoded = Dense(100, activation='relu')(input_layer)\n",
    "dropout=Dropout(0.2)(encoded)\n",
    "## decoding part\n",
    "\n",
    "from keras.layers import *\n",
    "emb_merge=concatenate(model_op)\n",
    "\n",
    "\n",
    "decoded = Dense(50, activation='relu')(emb_merge)\n",
    "emb_merge1=concatenate([dropout,decoded])\n",
    "dropout=Dropout(0.2)(emb_merge1)\n",
    "decoded = Dense(20, activation='relu')(dropout)\n",
    "dropout1=Dropout(0.5)(decoded)\n",
    "last=Dense(10, activation='relu')(dropout)\n",
    "\n",
    "## output layer\n",
    "output_layer = Dense(1,activation='sigmoid')(decoded)"
   ]
  },
  {
   "cell_type": "code",
   "execution_count": 30,
   "metadata": {},
   "outputs": [],
   "source": [
    "model_in.append(input_layer)\n",
    "autoencoder = Model(model_in, output_layer)\n",
    "autoencoder.compile(optimizer=\"adam\", loss=\"mse\")"
   ]
  },
  {
   "cell_type": "code",
   "execution_count": 31,
   "metadata": {},
   "outputs": [],
   "source": [
    "autoencoder.load_weights('best1')"
   ]
  },
  {
   "cell_type": "code",
   "execution_count": 32,
   "metadata": {},
   "outputs": [],
   "source": [
    "predictions=autoencoder.predict([x_test.pickup_latitude.values,x_test.pickup_longitude.values,x_test.dropoff_latitude.values,x_test.dropoff_longitude.values,X_test])"
   ]
  },
  {
   "cell_type": "code",
   "execution_count": 33,
   "metadata": {},
   "outputs": [],
   "source": [
    "def mapping(l):\n",
    "    return l*((max(data.trip_seconds)-min(data.trip_seconds)))+min(data.trip_seconds)"
   ]
  },
  {
   "cell_type": "markdown",
   "metadata": {},
   "source": [
    "# Inference"
   ]
  },
  {
   "cell_type": "code",
   "execution_count": 34,
   "metadata": {},
   "outputs": [],
   "source": [
    "y_pred=predictions*((max(data.trip_seconds)-min(data.trip_seconds)))+min(data.trip_seconds)\n",
    "# for i in predictions:\n",
    "#     y_pred.append(mapping(i))"
   ]
  },
  {
   "cell_type": "code",
   "execution_count": 35,
   "metadata": {},
   "outputs": [],
   "source": [
    "import itertools\n",
    "y_pred = list(itertools.chain(*y_pred))"
   ]
  },
  {
   "cell_type": "code",
   "execution_count": 36,
   "metadata": {},
   "outputs": [],
   "source": [
    "y_true=y_test*((max(data.trip_seconds)-min(data.trip_seconds)))+min(data.trip_seconds)"
   ]
  },
  {
   "cell_type": "code",
   "execution_count": 37,
   "metadata": {},
   "outputs": [
    {
     "data": {
      "text/plain": [
       "54.25524651369126"
      ]
     },
     "execution_count": 37,
     "metadata": {},
     "output_type": "execute_result"
    }
   ],
   "source": [
    "from sklearn.metrics import mean_squared_error\n",
    "mean_squared_error(y_true, y_pred)"
   ]
  },
  {
   "cell_type": "code",
   "execution_count": 38,
   "metadata": {},
   "outputs": [],
   "source": [
    "import matplotlib.pyplot as plt"
   ]
  },
  {
   "cell_type": "code",
   "execution_count": 39,
   "metadata": {},
   "outputs": [
    {
     "data": {
      "text/plain": [
       "array([ 4.,  8.,  9., ..., 23., 16.,  6.])"
      ]
     },
     "execution_count": 39,
     "metadata": {},
     "output_type": "execute_result"
    }
   ],
   "source": [
    "y_true"
   ]
  },
  {
   "cell_type": "code",
   "execution_count": 40,
   "metadata": {
    "scrolled": true
   },
   "outputs": [
    {
     "data": {
      "text/plain": [
       "<matplotlib.legend.Legend at 0x7f310b03a278>"
      ]
     },
     "execution_count": 40,
     "metadata": {},
     "output_type": "execute_result"
    },
    {
     "data": {
      "image/png": "[encoded data removed]",
      "text/plain": [
       "<Figure size 432x288 with 1 Axes>"
      ]
     },
     "metadata": {
      "needs_background": "light"
     },
     "output_type": "display_data"
    }
   ],
   "source": [
    "plt.plot(list(range(100)),y_true[0:100],label='true')\n",
    "plt.plot(list(range(100)),y_pred[0:100],label='pred')\n",
    "plt.legend()"
   ]
  },
  {
   "cell_type": "code",
   "execution_count": 41,
   "metadata": {},
   "outputs": [
    {
     "data": {
      "text/html": [
       "<div>\n",
       "<style scoped>\n",
       "    .dataframe tbody tr th:only-of-type {\n",
       "        vertical-align: middle;\n",
       "    }\n",
       "\n",
       "    .dataframe tbody tr th {\n",
       "        vertical-align: top;\n",
       "    }\n",
       "\n",
       "    .dataframe thead th {\n",
       "        text-align: right;\n",
       "    }\n",
       "</style>\n",
       "<table border=\"1\" class=\"dataframe\">\n",
       "  <thead>\n",
       "    <tr style=\"text-align: right;\">\n",
       "      <th></th>\n",
       "      <th>pickup_latitude</th>\n",
       "      <th>pickup_longitude</th>\n",
       "      <th>dropoff_latitude</th>\n",
       "      <th>dropoff_longitude</th>\n",
       "      <th>distance</th>\n",
       "      <th>start_hour</th>\n",
       "      <th>start_day</th>\n",
       "      <th>end_hour</th>\n",
       "      <th>end_day</th>\n",
       "    </tr>\n",
       "  </thead>\n",
       "  <tbody>\n",
       "    <tr>\n",
       "      <th>1030281</th>\n",
       "      <td>0.213010</td>\n",
       "      <td>0.960459</td>\n",
       "      <td>0.948980</td>\n",
       "      <td>0.770408</td>\n",
       "      <td>0.000200</td>\n",
       "      <td>0.652174</td>\n",
       "      <td>0.064516</td>\n",
       "      <td>0.652174</td>\n",
       "      <td>0.064516</td>\n",
       "    </tr>\n",
       "    <tr>\n",
       "      <th>1030282</th>\n",
       "      <td>0.961735</td>\n",
       "      <td>0.521684</td>\n",
       "      <td>0.788265</td>\n",
       "      <td>0.517857</td>\n",
       "      <td>0.000000</td>\n",
       "      <td>0.608696</td>\n",
       "      <td>1.000000</td>\n",
       "      <td>0.652174</td>\n",
       "      <td>1.000000</td>\n",
       "    </tr>\n",
       "    <tr>\n",
       "      <th>1030283</th>\n",
       "      <td>0.536990</td>\n",
       "      <td>0.056122</td>\n",
       "      <td>0.452806</td>\n",
       "      <td>0.423469</td>\n",
       "      <td>0.000367</td>\n",
       "      <td>0.000000</td>\n",
       "      <td>0.516129</td>\n",
       "      <td>0.000000</td>\n",
       "      <td>0.516129</td>\n",
       "    </tr>\n",
       "    <tr>\n",
       "      <th>1030284</th>\n",
       "      <td>0.877551</td>\n",
       "      <td>0.261480</td>\n",
       "      <td>0.928571</td>\n",
       "      <td>0.352041</td>\n",
       "      <td>0.000000</td>\n",
       "      <td>0.478261</td>\n",
       "      <td>0.096774</td>\n",
       "      <td>0.521739</td>\n",
       "      <td>0.096774</td>\n",
       "    </tr>\n",
       "    <tr>\n",
       "      <th>1030285</th>\n",
       "      <td>0.764031</td>\n",
       "      <td>0.440051</td>\n",
       "      <td>0.841837</td>\n",
       "      <td>0.151786</td>\n",
       "      <td>0.002100</td>\n",
       "      <td>0.782609</td>\n",
       "      <td>0.193548</td>\n",
       "      <td>0.782609</td>\n",
       "      <td>0.193548</td>\n",
       "    </tr>\n",
       "  </tbody>\n",
       "</table>\n",
       "</div>"
      ],
      "text/plain": [
       "         pickup_latitude  pickup_longitude  dropoff_latitude  \\\n",
       "1030281         0.213010          0.960459          0.948980   \n",
       "1030282         0.961735          0.521684          0.788265   \n",
       "1030283         0.536990          0.056122          0.452806   \n",
       "1030284         0.877551          0.261480          0.928571   \n",
       "1030285         0.764031          0.440051          0.841837   \n",
       "\n",
       "         dropoff_longitude  distance  start_hour  start_day  end_hour  \\\n",
       "1030281           0.770408  0.000200    0.652174   0.064516  0.652174   \n",
       "1030282           0.517857  0.000000    0.608696   1.000000  0.652174   \n",
       "1030283           0.423469  0.000367    0.000000   0.516129  0.000000   \n",
       "1030284           0.352041  0.000000    0.478261   0.096774  0.521739   \n",
       "1030285           0.151786  0.002100    0.782609   0.193548  0.782609   \n",
       "\n",
       "          end_day  \n",
       "1030281  0.064516  \n",
       "1030282  1.000000  \n",
       "1030283  0.516129  \n",
       "1030284  0.096774  \n",
       "1030285  0.193548  "
      ]
     },
     "execution_count": 41,
     "metadata": {},
     "output_type": "execute_result"
    }
   ],
   "source": [
    "x_test.head()"
   ]
  },
  {
   "cell_type": "code",
   "execution_count": 44,
   "metadata": {},
   "outputs": [
    {
     "data": {
      "text/plain": [
       "0.0006963788300835655"
      ]
     },
     "execution_count": 44,
     "metadata": {},
     "output_type": "execute_result"
    }
   ],
   "source": [
    "y_test[0]"
   ]
  },
  {
   "cell_type": "code",
   "execution_count": 45,
   "metadata": {},
   "outputs": [],
   "source": [
    "test=pd.DataFrame([[0.213010,0.960459,0.948980,0.770408]],columns=list(x_test.columns)[0:4])"
   ]
  },
  {
   "cell_type": "code",
   "execution_count": 46,
   "metadata": {},
   "outputs": [],
   "source": [
    "test1=pd.DataFrame([[0.000200,0.652174,0.064516,0.652174,0.064516]],columns=list(x_test.columns)[4:])"
   ]
  },
  {
   "cell_type": "code",
   "execution_count": 47,
   "metadata": {},
   "outputs": [],
   "source": [
    "predictions1=autoencoder.predict([[0.213010],[0.960459],[0.948980],[0.948980],test1])"
   ]
  },
  {
   "cell_type": "code",
   "execution_count": 48,
   "metadata": {},
   "outputs": [
    {
     "data": {
      "text/html": [
       "<div>\n",
       "<style scoped>\n",
       "    .dataframe tbody tr th:only-of-type {\n",
       "        vertical-align: middle;\n",
       "    }\n",
       "\n",
       "    .dataframe tbody tr th {\n",
       "        vertical-align: top;\n",
       "    }\n",
       "\n",
       "    .dataframe thead th {\n",
       "        text-align: right;\n",
       "    }\n",
       "</style>\n",
       "<table border=\"1\" class=\"dataframe\">\n",
       "  <thead>\n",
       "    <tr style=\"text-align: right;\">\n",
       "      <th></th>\n",
       "      <th>distance</th>\n",
       "      <th>start_hour</th>\n",
       "      <th>start_day</th>\n",
       "      <th>end_hour</th>\n",
       "      <th>end_day</th>\n",
       "    </tr>\n",
       "  </thead>\n",
       "  <tbody>\n",
       "    <tr>\n",
       "      <th>0</th>\n",
       "      <td>0.0002</td>\n",
       "      <td>0.652174</td>\n",
       "      <td>0.064516</td>\n",
       "      <td>0.652174</td>\n",
       "      <td>0.064516</td>\n",
       "    </tr>\n",
       "  </tbody>\n",
       "</table>\n",
       "</div>"
      ],
      "text/plain": [
       "   distance  start_hour  start_day  end_hour   end_day\n",
       "0    0.0002    0.652174   0.064516  0.652174  0.064516"
      ]
     },
     "execution_count": 48,
     "metadata": {},
     "output_type": "execute_result"
    }
   ],
   "source": [
    "test1"
   ]
  },
  {
   "cell_type": "code",
   "execution_count": 49,
   "metadata": {},
   "outputs": [],
   "source": [
    "preds=[]\n",
    "for i in range(5):\n",
    "    preds.append(autoencoder.predict([[0.213010],[0.960459],[0.948980],[0.948980],test1])[0][0])\n",
    "    test1.iloc[0]['start_hour']=((test1.iloc[0]['start_hour']*24)+1)/24"
   ]
  },
  {
   "cell_type": "code",
   "execution_count": 123,
   "metadata": {},
   "outputs": [],
   "source": [
    "np.set_printoptions(suppress=False)"
   ]
  },
  {
   "cell_type": "code",
   "execution_count": null,
   "metadata": {},
   "outputs": [],
   "source": []
  },
  {
   "cell_type": "code",
   "execution_count": 50,
   "metadata": {},
   "outputs": [],
   "source": [
    "pred=np.array(preds)*((max(data.trip_seconds)-min(data.trip_seconds)))+min(data.trip_seconds)"
   ]
  },
  {
   "cell_type": "code",
   "execution_count": 51,
   "metadata": {},
   "outputs": [
    {
     "data": {
      "text/plain": [
       "array([   8.8053   ,    7.5524483,  150.99275  , 1017.8422   ,\n",
       "        957.6284   ], dtype=float32)"
      ]
     },
     "execution_count": 51,
     "metadata": {},
     "output_type": "execute_result"
    }
   ],
   "source": [
    "pred"
   ]
  },
  {
   "cell_type": "code",
   "execution_count": 52,
   "metadata": {},
   "outputs": [
    {
     "ename": "IndexError",
     "evalue": "only integers, slices (`:`), ellipsis (`...`), numpy.newaxis (`None`) and integer or boolean arrays are valid indices",
     "output_type": "error",
     "traceback": [
      "\u001b[0;31m---------------------------------------------------------------------------\u001b[0m",
      "\u001b[0;31mIndexError\u001b[0m                                Traceback (most recent call last)",
      "\u001b[0;32m<ipython-input-52-a7431b24e334>\u001b[0m in \u001b[0;36m<module>\u001b[0;34m\u001b[0m\n\u001b[1;32m      1\u001b[0m \u001b[0;32mfor\u001b[0m \u001b[0mi\u001b[0m \u001b[0;32min\u001b[0m \u001b[0mpred\u001b[0m\u001b[0;34m:\u001b[0m\u001b[0;34m\u001b[0m\u001b[0;34m\u001b[0m\u001b[0m\n\u001b[0;32m----> 2\u001b[0;31m     \u001b[0mprint\u001b[0m\u001b[0;34m(\u001b[0m\u001b[0;34m\"time in \"\u001b[0m\u001b[0;34m+\u001b[0m\u001b[0mstr\u001b[0m\u001b[0;34m(\u001b[0m\u001b[0mi\u001b[0m\u001b[0;34m)\u001b[0m\u001b[0;34m+\u001b[0m\u001b[0;34m\" hour is\"\u001b[0m\u001b[0;34m+\u001b[0m\u001b[0mpred\u001b[0m\u001b[0;34m[\u001b[0m\u001b[0mi\u001b[0m\u001b[0;34m]\u001b[0m\u001b[0;34m)\u001b[0m\u001b[0;34m\u001b[0m\u001b[0;34m\u001b[0m\u001b[0m\n\u001b[0m",
      "\u001b[0;31mIndexError\u001b[0m: only integers, slices (`:`), ellipsis (`...`), numpy.newaxis (`None`) and integer or boolean arrays are valid indices"
     ]
    }
   ],
   "source": [
    "for i in rangelen(pred)):\n",
    "    print(\"time in \"+str(i)+\" hour is\"+pred[i])"
   ]
  },
  {
   "cell_type": "code",
   "execution_count": 118,
   "metadata": {},
   "outputs": [
    {
     "data": {
      "text/plain": [
       "[2.7940786e-18, 9.357278e-19, 3.133662e-19, 1.0490929e-19, 3.512185e-20]"
      ]
     },
     "execution_count": 118,
     "metadata": {},
     "output_type": "execute_result"
    }
   ],
   "source": [
    "preds"
   ]
  },
  {
   "cell_type": "code",
   "execution_count": null,
   "metadata": {},
   "outputs": [],
   "source": []
  }
 ],
 "metadata": {
  "kernelspec": {
   "display_name": "Python 3",
   "language": "python",
   "name": "python3"
  },
  "language_info": {
   "codemirror_mode": {
    "name": "ipython",
    "version": 3
   },
   "file_extension": ".py",
   "mimetype": "text/x-python",
   "name": "python",
   "nbconvert_exporter": "python",
   "pygments_lexer": "ipython3",
   "version": "3.6.8"
  }
 },
 "nbformat": 4,
 "nbformat_minor": 2
}
